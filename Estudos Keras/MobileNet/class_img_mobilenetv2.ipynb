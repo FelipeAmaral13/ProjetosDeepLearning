{
  "nbformat": 4,
  "nbformat_minor": 0,
  "metadata": {
    "colab": {
      "name": "class_img_mobilenetv2.ipynb",
      "provenance": []
    },
    "kernelspec": {
      "name": "python3",
      "display_name": "Python 3"
    },
    "language_info": {
      "name": "python"
    }
  },
  "cells": [
    {
      "cell_type": "markdown",
      "source": [
        "# Aplicação do MobileNetV2 para classificação de imagens\n",
        "\n",
        "Keras inclui uma série de redes pré-treinadas que você pode baixar e usar imediatamente [Tipos de modelo](https://keras.io/api/applications/). Um deles é o MobileNetV2, que foi treinado para classificar imagens.\n",
        "\n",
        "Você pode simplesmente importar o MobileNetV2 de `keras.applications` e criar uma instância dele. Na primeira vez que você fizer isso, a rede será baixada da Internet.\n",
        "\n",
        "Se você não passar nenhuma palavra-chave para MobileNetV2(), a rede terá pesos aleatórios; ou seja, você obterá a arquitetura da rede, mas não os pesos e, portanto, terá que treiná-la você mesmo. Ao especificar `weights='imagenet'`, você indica que deseja que a rede seja pré-treinada."
      ],
      "metadata": {
        "id": "ZI7mdPwm2Nuk"
      }
    },
    {
      "cell_type": "code",
      "execution_count": 35,
      "metadata": {
        "id": "9RrWGrmCxb7Q"
      },
      "outputs": [],
      "source": [
        "from keras.applications.mobilenet_v2 import MobileNetV2, preprocess_input, decode_predictions\n",
        "import numpy as np\n",
        "from imageio import imread\n",
        "from google.colab import files as FILE\n",
        "import os\n",
        "import requests\n",
        "import tensorflow as tf\n",
        "\n",
        "# Download de uma imagem na internet\n",
        "# DownURL = 'https://i0.wp.com/ethosanimal.com.br/wp-content/uploads/2015/07/cao-em-harmonia-cao-feliz-ethos-animal-comportamento-animal-aplicado-adestramento-helena-truksa-.jpg?w=728&ssl=1'\n",
        "DownURL = 'https://www.plazahoteis.com.br/wp-content/uploads/2018/10/cerveja-artesanal-blumenau-out18.jpg'\n",
        "\n",
        "img_data = requests.get(DownURL).content\n",
        "with open('image_name.jpg', 'wb') as handler:\n",
        "    handler.write(img_data)\n",
        "\n",
        "# Modelo MobileNetV2\n",
        "model = MobileNetV2(weights='imagenet')"
      ]
    },
    {
      "cell_type": "markdown",
      "source": [
        "As redes neurais são exigentes quando se trata do tipo de entrada que esperam. Se você fornecer entrada em um formato que a rede não espera, as previsões não farão sentido (se a estrutura da entrada for superficialmente compatível com a rede) ou o código simplesmente falhará (se a estrutura da entrada é incompatível).\n",
        "\n",
        "O MobileNetV2 espera imagens de 224 × 224 pixels com três canais de cores. Em outras palavras, espera entrada de forma (224, 224, 3). Você pode passar várias imagens de uma vez para o modelo, assim como passamos vários números para nosso modelo no tutorial anterior. Isso significa que a entrada deve, na verdade, consistir em quatro dimensões, onde a primeira dimensão corresponde ao índice da imagem.\n",
        "\n",
        "Aqui passamos apenas uma única imagem para o modelo, o que significa que a primeira dimensão da entrada é de tamanho 1."
      ],
      "metadata": {
        "id": "oyu59gAl3ZAw"
      }
    },
    {
      "cell_type": "code",
      "source": [
        "# Ler a imagem salva na raiz\n",
        "image_input = imread('/content/image_name.jpg')\n",
        "\n",
        "# Conveter a imagem para formato do MobileNetV2\n",
        "image = tf.image.resize(image_input, (224, 224))\n",
        "\n",
        "data = np.empty((1, 224, 224, 3))\n",
        "data[0] = image"
      ],
      "metadata": {
        "id": "EjQlAJNSz7bv"
      },
      "execution_count": 27,
      "outputs": []
    },
    {
      "cell_type": "markdown",
      "source": [
        "Quando você carrega uma imagem com `imread()`, os valores de pixel estão no intervalo de 0 a 255. No entanto, o MobileNetV2 espera que os valores de pixel estejam na faixa de -1 a 1. Você mesmo pode realizar essa transformação, mas o Keras também fornece funções de pré-processamento:"
      ],
      "metadata": {
        "id": "YqvxWjxC3m0g"
      }
    },
    {
      "cell_type": "code",
      "source": [
        "data = preprocess_input(data)"
      ],
      "metadata": {
        "id": "LKyxlSVmzVsq"
      },
      "execution_count": 42,
      "outputs": []
    },
    {
      "cell_type": "markdown",
      "source": [
        "# Classificação da Imagem\n",
        "\n",
        "As previsões são retornadas como um array bidimensional onde o primeiro eixo corresponde às observações (imagens, neste caso). Como alimentamos apenas uma única imagem no modelo, a primeira dimensão é de tamanho 1. O segundo eixo corresponde aos neurônios de saída do modelo. Como o MobileNetV2 tem 1.000 neurônios na camada de saída, a segunda dimensão é de tamanho 1.000.\n",
        "\n",
        "Podemos verificar qual neurônio de saída estava mais ativo usando np.argmax(), que fornece o índice do valor mais alto:"
      ],
      "metadata": {
        "id": "geR_FEgG3u_x"
      }
    },
    {
      "cell_type": "code",
      "source": [
        "predictions = model.predict(data)\n",
        "print('Shape: {}'.format(predictions.shape))\n",
        "\n",
        "\n",
        "output_neuron = np.argmax(predictions[0])\n",
        "print('Neuronio mais ativo: {} ({:.2f}%)'.format(\n",
        "    output_neuron,\n",
        "    100 * predictions[0][output_neuron]\n",
        "))\n"
      ],
      "metadata": {
        "colab": {
          "base_uri": "https://localhost:8080/"
        },
        "id": "4X6y-oWf0Lq3",
        "outputId": "d35f4c3c-8693-4cda-e85a-df40542a4fac"
      },
      "execution_count": 38,
      "outputs": [
        {
          "output_type": "stream",
          "name": "stdout",
          "text": [
            "Shape: (1, 1000)\n",
            "Neuronio mais ativo: 818 (21.71%)\n"
          ]
        }
      ]
    },
    {
      "cell_type": "markdown",
      "source": [
        "No entanto, saber que o neurônio 818 se tornou o mais ativo em resposta à imagem lida não é, por si só, muito informativo, pois também precisamos saber a qual categoria ele corresponde. Felizmente, o Keras fornece uma função que mapeia automaticamente as previsões em pontuações para as categorias correspondentes:"
      ],
      "metadata": {
        "id": "hI1fhfAX4UQ_"
      }
    },
    {
      "cell_type": "code",
      "source": [
        "for name, desc, score in decode_predictions(predictions)[0]:\n",
        "    print('- {} ({:.2f}%%)'.format(desc, 100 * score))\n"
      ],
      "metadata": {
        "colab": {
          "base_uri": "https://localhost:8080/"
        },
        "id": "dCy-FgOZ0Q7I",
        "outputId": "27cdfe07-bc0d-476d-eb72-04afe91b6d15"
      },
      "execution_count": 39,
      "outputs": [
        {
          "output_type": "stream",
          "name": "stdout",
          "text": [
            "- spotlight (21.71%%)\n",
            "- digital_clock (4.06%%)\n",
            "- theater_curtain (3.18%%)\n",
            "- matchstick (3.11%%)\n",
            "- lampshade (2.54%%)\n"
          ]
        }
      ]
    },
    {
      "cell_type": "code",
      "source": [
        ""
      ],
      "metadata": {
        "id": "xcOu55Ax0TYl"
      },
      "execution_count": null,
      "outputs": []
    }
  ]
}