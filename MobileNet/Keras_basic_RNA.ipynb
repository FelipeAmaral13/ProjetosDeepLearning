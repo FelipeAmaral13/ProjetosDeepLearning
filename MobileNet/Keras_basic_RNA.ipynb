{
  "nbformat": 4,
  "nbformat_minor": 0,
  "metadata": {
    "colab": {
      "name": "Keras_basic_RNA.ipynb",
      "provenance": []
    },
    "kernelspec": {
      "name": "python3",
      "display_name": "Python 3"
    },
    "language_info": {
      "name": "python"
    }
  },
  "cells": [
    {
      "cell_type": "markdown",
      "source": [
        "# Construir um simples rede neural artificial com Keras\n",
        "\n",
        "Objetivo:\n",
        "Classificar numeros entre 0-1. Se o número analisado for menor ou igual a 0.5, receberá classe 0, senão, classe 1."
      ],
      "metadata": {
        "id": "D21rH8Dqqm5K"
      }
    },
    {
      "cell_type": "code",
      "execution_count": 15,
      "metadata": {
        "colab": {
          "base_uri": "https://localhost:8080/"
        },
        "id": "eSIsUktrqYUX",
        "outputId": "09f2ca6d-2091-4005-e5af-734941f13d86"
      },
      "outputs": [
        {
          "output_type": "stream",
          "name": "stdout",
          "text": [
            "[[0.13580229]\n",
            " [0.94011366]\n",
            " [0.17456894]\n",
            " [0.09524545]\n",
            " [0.24408189]]\n",
            "[[0]\n",
            " [1]\n",
            " [0]\n",
            " [0]\n",
            " [0]]\n"
          ]
        }
      ],
      "source": [
        "import numpy as np\n",
        "from keras import Sequential\n",
        "from keras.layers import Dense\n",
        "import matplotlib.pyplot as plt\n",
        "\n",
        "\n",
        "# Criar um dataset generico com 10 mil amostras\n",
        "data = np.random.random(10000)\n",
        "data.shape = 10000, 1\n",
        "print(data[:5])  # Cinco primeiras amostras\n",
        "\n",
        "labels = np.array(data >= .5, dtype=int)\n",
        "print(labels[:5])  #Cinco primeiras labels\n",
        "\n"
      ]
    },
    {
      "cell_type": "markdown",
      "source": [
        "# Construir o modelo da RNA simples\n",
        "\n",
        "A classe de modelo **Sequential** permite especificar a arquitetura de um modelo como uma lista (ou: seqüência, daí o nome) de camadas. Especificamos duas camadas, ambas Densas, o que significa que cada neurônio da camada está conectado a todos os neurônios da camada acima.\n",
        "\n",
        "A primeira camada (não de entrada), que consiste em 8 neurônios, especifica a forma das observações de entrada, que no nosso caso é apenas um único número (ou seja, uma matriz de forma (1, )). A palavra-chave de ativação especifica como os neurônios traduzem sua entrada em uma saída. Aqui usamos a função de unidade linear retificada ('relu'), que essencialmente significa que os neurônios não podem ter uma saída negativa.\n",
        "\n",
        "A segunda camada, que consiste em dois neurônios, é nossa camada de saída. A função de ativação 'softmax' significa essencialmente que a saída do neurônio é comprimida na faixa de 0 a 1."
      ],
      "metadata": {
        "id": "d-W4eTPgtSTJ"
      }
    },
    {
      "cell_type": "code",
      "source": [
        "model = Sequential([\n",
        "    Dense(units=8, input_shape=(1,), activation='relu'),\n",
        "    Dense(units=2, activation='softmax'),\n",
        "])"
      ],
      "metadata": {
        "colab": {
          "base_uri": "https://localhost:8080/"
        },
        "id": "C0ipHDAdqrsX",
        "outputId": "1cddca0a-0bdc-4f9b-88d3-aa6de7559913"
      },
      "execution_count": 6,
      "outputs": [
        {
          "output_type": "stream",
          "name": "stdout",
          "text": [
            "Model: \"sequential_1\"\n",
            "_________________________________________________________________\n",
            " Layer (type)                Output Shape              Param #   \n",
            "=================================================================\n",
            " dense_2 (Dense)             (None, 8)                 16        \n",
            "                                                                 \n",
            " dense_3 (Dense)             (None, 2)                 18        \n",
            "                                                                 \n",
            "=================================================================\n",
            "Total params: 34\n",
            "Trainable params: 34\n",
            "Non-trainable params: 0\n",
            "_________________________________________________________________\n"
          ]
        }
      ]
    },
    {
      "cell_type": "markdown",
      "source": [
        "A palavra-chave do otimizador especifica o algoritmo que será usado para ajustar os pesos no modelo. Usaremos Adam, mas outros algoritmos também estão disponíveis, e a escolha de um algoritmo em detrimento de outro depende em grande parte de preferência e experiência.\n",
        "\n",
        "A palavra-chave loss especifica a função de perda, que é o algoritmo que determina o quanto as previsões do modelo estão erradas. O objetivo do treinamento é reduzir a perda. Usaremos `sparse_categorical_crossentropy`, que assume que valores de rótulo de 0 significam que o primeiro neurônio na camada de saída deve ser o mais ativo, enquanto valores de rótulo de 1 significam que o segundo neurônio deve ser o mais ativo.\n",
        "\n",
        "A palavra-chave de Accuracy especifica uma métrica que é impressa durante o treinamento para que você tenha uma ideia do desempenho do modelo. Isso é apenas para visualização e não afeta o processo de treinamento em si."
      ],
      "metadata": {
        "id": "-x-W5Jg4t0XZ"
      }
    },
    {
      "cell_type": "code",
      "source": [
        "model.compile(\n",
        "    optimizer='adam',\n",
        "    loss='sparse_categorical_crossentropy',\n",
        "    metrics=['accuracy']\n",
        ")\n",
        "\n",
        "\n",
        "model.summary()"
      ],
      "metadata": {
        "colab": {
          "base_uri": "https://localhost:8080/"
        },
        "id": "6CtGeabKt1SW",
        "outputId": "13d4cb2b-aa0f-431e-f32a-16e62ac5eb4c"
      },
      "execution_count": 18,
      "outputs": [
        {
          "output_type": "stream",
          "name": "stdout",
          "text": [
            "Model: \"sequential_1\"\n",
            "_________________________________________________________________\n",
            " Layer (type)                Output Shape              Param #   \n",
            "=================================================================\n",
            " dense_2 (Dense)             (None, 8)                 16        \n",
            "                                                                 \n",
            " dense_3 (Dense)             (None, 2)                 18        \n",
            "                                                                 \n",
            "=================================================================\n",
            "Total params: 34\n",
            "Trainable params: 34\n",
            "Non-trainable params: 0\n",
            "_________________________________________________________________\n"
          ]
        }
      ]
    },
    {
      "cell_type": "markdown",
      "source": [
        "Nosso modelo possui 34 parâmetros, que correspondem a todos os pesos das conexões entre os neurônios, bem como o parâmetro de bias para cada neurônio (uma espécie de nível de atividade da linha de base que um neurônio possui na ausência de qualquer entrada).\n",
        "\n",
        "A primeira camada consiste em oito neurônios, cada um com uma conexão com o neurônio de entrada mais uma polarização, então 8 × (1 + 1) = 16 parâmetros no total. A segunda camada consiste em dois neurônios, cada um com uma conexão com todos os oito neurônios da camada anterior mais uma polarização, então 2 × (8 + 1) = 18 parâmetros no total."
      ],
      "metadata": {
        "id": "vzi6u5pUuTuF"
      }
    },
    {
      "cell_type": "markdown",
      "source": [
        "# Treinando o modelo\n",
        "\n",
        "Para treinar o modelo, simplesmente chamamos a função fit(). Durante o treinamento, os 34 parâmetros do modelo são ajustados para minimizar a perda.\n",
        "\n",
        "A palavra-chave epochs especifica com que frequência os dados de treinamento devem ser usados ​​para ajustar o modelo. No nosso caso, especificamos 10 épocas, o que é semelhante a chamar fit() 10 vezes seguidas com os mesmos dados e rótulos.\n",
        "\n",
        "A palavra-chave verbose especifica quanta informação deve ser impressa durante o treinamento."
      ],
      "metadata": {
        "id": "TrNWv2jGucuQ"
      }
    },
    {
      "cell_type": "code",
      "source": [
        "history = model.fit(x=data, y=labels, epochs=10, verbose=2, validation_split=.1, shuffle = True)"
      ],
      "metadata": {
        "colab": {
          "base_uri": "https://localhost:8080/"
        },
        "id": "b49NaqIGq8uP",
        "outputId": "4be9c3d0-0f03-488a-f7ff-6932bfdcfbc6"
      },
      "execution_count": 13,
      "outputs": [
        {
          "output_type": "stream",
          "name": "stdout",
          "text": [
            "Epoch 1/10\n",
            "282/282 - 0s - loss: 0.0273 - accuracy: 0.9978 - val_loss: 0.0258 - val_accuracy: 0.9990 - 455ms/epoch - 2ms/step\n",
            "Epoch 2/10\n",
            "282/282 - 0s - loss: 0.0267 - accuracy: 0.9977 - val_loss: 0.0249 - val_accuracy: 1.0000 - 394ms/epoch - 1ms/step\n",
            "Epoch 3/10\n",
            "282/282 - 0s - loss: 0.0258 - accuracy: 0.9980 - val_loss: 0.0258 - val_accuracy: 0.9960 - 409ms/epoch - 1ms/step\n",
            "Epoch 4/10\n",
            "282/282 - 0s - loss: 0.0254 - accuracy: 0.9979 - val_loss: 0.0238 - val_accuracy: 1.0000 - 412ms/epoch - 1ms/step\n",
            "Epoch 5/10\n",
            "282/282 - 0s - loss: 0.0248 - accuracy: 0.9987 - val_loss: 0.0232 - val_accuracy: 0.9990 - 390ms/epoch - 1ms/step\n",
            "Epoch 6/10\n",
            "282/282 - 0s - loss: 0.0242 - accuracy: 0.9977 - val_loss: 0.0227 - val_accuracy: 0.9990 - 418ms/epoch - 1ms/step\n",
            "Epoch 7/10\n",
            "282/282 - 0s - loss: 0.0237 - accuracy: 0.9988 - val_loss: 0.0223 - val_accuracy: 0.9990 - 421ms/epoch - 1ms/step\n",
            "Epoch 8/10\n",
            "282/282 - 0s - loss: 0.0232 - accuracy: 0.9981 - val_loss: 0.0220 - val_accuracy: 1.0000 - 395ms/epoch - 1ms/step\n",
            "Epoch 9/10\n",
            "282/282 - 1s - loss: 0.0228 - accuracy: 0.9984 - val_loss: 0.0218 - val_accuracy: 1.0000 - 593ms/epoch - 2ms/step\n",
            "Epoch 10/10\n",
            "282/282 - 0s - loss: 0.0223 - accuracy: 0.9989 - val_loss: 0.0210 - val_accuracy: 0.9990 - 398ms/epoch - 1ms/step\n"
          ]
        }
      ]
    },
    {
      "cell_type": "markdown",
      "source": [
        "# Testar o modelo\n",
        "\n",
        "Testar o desempenho do nosso modelo é verificar se ele é capaz de classificar números nos quais não foi treinado. No nosso caso, treinamos o modelo com nada menos que 10.000 números selecionados aleatoriamente, o que significa que nosso modelo viu praticamente todos os números que há para ver na faixa de 0 a 1. No entanto, é uma boa prática criar um conjunto de teste separado. Então, vamos criar uma nova matriz composta por dez números:"
      ],
      "metadata": {
        "id": "YevNmlezum_n"
      }
    },
    {
      "cell_type": "code",
      "source": [
        "test_set = np.array([0, 0.1, 0.2, 0.3, 0.4, 0.5, 0.6, 0.7, 0.8, 0.9])\n",
        "predictions = model.predict(test_set)\n",
        "print(np.argmax(predictions, axis=1))"
      ],
      "metadata": {
        "colab": {
          "base_uri": "https://localhost:8080/"
        },
        "id": "wUx2VxM9rFVx",
        "outputId": "ebc288f3-3c37-428f-ef61-c652f3371150"
      },
      "execution_count": 9,
      "outputs": [
        {
          "output_type": "stream",
          "name": "stdout",
          "text": [
            "[0 0 0 0 0 1 1 1 1 1]\n"
          ]
        }
      ]
    },
    {
      "cell_type": "markdown",
      "source": [
        "# Avaliação do modelo\n",
        "\n",
        "é importante verificar se o modelo sofreu algum sobre ajuste ou sub ajuste para podermos melhorar ainda mais o seu funcionamento;"
      ],
      "metadata": {
        "id": "h4jypbPJu5nh"
      }
    },
    {
      "cell_type": "code",
      "source": [
        "# Acc\n",
        "plt.plot(history.history['accuracy'])\n",
        "plt.plot(history.history['val_accuracy'])\n",
        "plt.title('Acc model')\n",
        "plt.ylabel('Acc')\n",
        "plt.xlabel('Epocas')\n",
        "plt.legend(['treino', 'teste'], loc='upper left')\n",
        "plt.show()\n",
        "# Loss\n",
        "plt.plot(history.history['loss'])\n",
        "plt.plot(history.history['val_loss'])\n",
        "plt.title('loss model')\n",
        "plt.ylabel('loss')\n",
        "plt.xlabel('Epocas')\n",
        "plt.legend(['treino', 'teste'], loc='upper left')\n",
        "plt.show()"
      ],
      "metadata": {
        "colab": {
          "base_uri": "https://localhost:8080/",
          "height": 573
        },
        "id": "59cSYxbgrQaR",
        "outputId": "1399146f-d673-43fb-b1bc-0e7f22fb0faa"
      },
      "execution_count": 17,
      "outputs": [
        {
          "output_type": "display_data",
          "data": {
            "text/plain": [
              "<Figure size 432x288 with 1 Axes>"
            ],
            "image/png": "[encoded data removed]"
          },
          "metadata": {
            "needs_background": "light"
          }
        },
        {
          "output_type": "display_data",
          "data": {
            "text/plain": [
              "<Figure size 432x288 with 1 Axes>"
            ],
            "image/png": "[encoded data removed]"
          },
          "metadata": {
            "needs_background": "light"
          }
        }
      ]
    },
    {
      "cell_type": "code",
      "source": [
        ""
      ],
      "metadata": {
        "id": "_dnBfikcrpUw"
      },
      "execution_count": null,
      "outputs": []
    }
  ]
}